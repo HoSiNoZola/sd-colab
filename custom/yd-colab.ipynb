{
  "cells": [
    {
      "cell_type": "code",
      "execution_count": null,
      "metadata": {
        "id": "WGS739-C08hR"
      },
      "outputs": [],
      "source": [
        "import os\n",
        "import sys\n",
        "import binascii\n",
        "from IPython.utils import capture\n",
        "from IPython.display import clear_output\n",
        "import ipywidgets as widgets\n",
        "\n",
        "sdw = binascii.a2b_uu(\"6<W1A8FQE+61I9F9U<VEO;BUW96)U:0``\").decode('utf-8')\n",
        "w = binascii.a2b_uu(\"(<V0M=V5B=6D`\").decode('utf-8')\n",
        "sai = binascii.a2b_uu(\"=<W1A8FQE+61I9F9U<VEO;BUS=&%B:6QI='DM86D`\").decode('utf-8')\n",
        "webui_dir = f'/content/{sdw}'\n",
        "\n",
        "!apt -y update -qq\n",
        "!apt -y install -qq aria2 git\n",
        "!pip install -q torch==2.0.1+cu118 torchvision==0.15.2+cu118 torchaudio==2.0.2+cu118 torchtext==0.15.2 torchdata==0.6.1 --extra-index-url https://download.pytorch.org/whl/cu118 -U\n",
        "!pip install -q xformers==0.0.20 triton==2.0.0 gradio_client==0.2.7 -U\n",
        "\n",
        "%cd /content\n",
        "with capture.capture_output() as cap:\n",
        "  def inf(msg, style, wdth): inf = widgets.Button(description=msg, disabled=True, button_style=style, layout=widgets.Layout(min_width=wdth));display(inf)\n",
        "  !git clone -q --branch v1.5.2 https://github.com/AUTOMATIC1111/$sdw\n",
        "clear_output()\n",
        "inf('\\u2714 Done','success', '50px')\n",
        "\n",
        "#安装中文&标签插件\n",
        "!git clone --depth 1 https://github.com/hanamizuki-ai/$sdw-localization-zh_Hans {webui_dir}/extensions/$sdw-localization-zh_Hans #中文\n",
        "!git clone --depth 1 https://github.com/AlUlkesh/$sdw-images-browser {webui_dir}/extensions/$sdw-images-browser #图片浏览\n",
        "!git clone --depth 1 https://github.com/etherealxx/batchlinks-webui {webui_dir}/extensions/batchlinks-webui\n",
        "\n",
        "#同步 秋葉aaaki Webui (可选)\n",
        "%cd {webui_dir}\n",
        "!wget -O \"config.json\" \"https://huggingface.co/spaces/weo1101/111/resolve/main/config.json\"\n",
        "#CKPT Model Download/Load\n",
        "model_dir = f\"{webui_dir}/models/Stable-diffusion\"\n",
        "#!wget https://huggingface.co/spaces/weo1101/111/resolve/main/chilloutmix_NiPrunedFp32Fix-inpainting.inpainting.safetensors -O {model_dir}/chilloutmix_NiPrunedFp32Fix-inpainting.inpainting.safetensors\n",
        "!aria2c --console-log-level=error -c -x 16 -s 16 -k 1M https://huggingface.co/spaces/weo1101/111/resolve/main/chilloutmix_NiPrunedFp32Fix-inpainting.inpainting.safetensors -d {model_dir} -o chilloutmix_NiPrunedFp32Fix-inpainting.inpainting.safetensors\n",
        "clear_output()\n",
        "inf('\\u2714 Model downloaded, using the trained model.', 'success', '350px')\n",
        "%cd {webui_dir}\n",
        "!git reset --hard\n",
        "!git -C {webui_dir}/repositories/$sai reset --hard\n",
        "\n",
        "!sed -i -e '''/from modules import launch_utils/a\\import os''' {webui_dir}/launch.py\n",
        "!sed -i -e '''/        prepare_environment()/a\\        os.system\\(f\\\"\"\"sed -i -e ''\\\"s/dict()))/dict())).cuda()/g\\\"'' {webui_dir}/repositories/{sai}/ldm/util.py\"\"\")''' {webui_dir}/launch.py\n",
        "!sed -i -e 's/\\[\"sd_model_checkpoint\"\\]/\\[\"sd_model_checkpoint\",\"sd_vae\",\"CLIP_stop_at_last_layers\"\\]/g' {webui_dir}/modules/shared.py\n",
        "!python launch.py --listen --xformers --enable-insecure-extension-access --theme dark --gradio-queue --share"
      ]
    }
  ],
  "metadata": {
    "accelerator": "GPU",
    "colab": {
      "collapsed_sections": [
        "uE4Fyyqd08hn",
        "eCjCGUUE08hz"
      ],
      "gpuType": "T4",
      "provenance": []
    },
    "kernelspec": {
      "display_name": "Python 3",
      "name": "python3"
    },
    "language_info": {
      "name": "python"
    }
  },
  "nbformat": 4,
  "nbformat_minor": 0
}
