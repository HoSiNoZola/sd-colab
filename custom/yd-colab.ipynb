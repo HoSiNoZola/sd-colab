{
  "cells": [
    {
      "cell_type": "code",
      "execution_count": null,
      "metadata": {
        "id": "WGS739-C08hR"
      },
      "outputs": [],
      "source": [
        "import os\n",
        "import sys\n",
        "import binascii\n",
        "from IPython.display import clear_output\n",
        "\n",
        "sdw = binascii.a2b_uu(\"6<W1A8FQE+61I9F9U<VEO;BUW96)U:0``\").decode('utf-8')\n",
        "w = binascii.a2b_uu(\"(<V0M=V5B=6D`\").decode('utf-8')\n",
        "sai = binascii.a2b_uu(\"=<W1A8FQE+61I9F9U<VEO;BUS=&%B:6QI='DM86D`\").decode('utf-8')\n",
        "sd = binascii.a2b_uu(\"04W1A8FQE+61I9F9U<VEO;@``\").decode('utf-8')\n",
        "\n",
        "!apt -y update -qq\n",
        "!apt -y install -qq aria2 git\n",
        "!pip install -q torch==2.0.1+cu118 torchvision==0.15.2+cu118 torchaudio==2.0.2+cu118 torchtext==0.15.2 torchdata==0.6.1 --extra-index-url https://download.pytorch.org/whl/cu118 -U\n",
        "!pip install -q xformers==0.0.20 triton==2.0.0 gradio_client==0.2.7 -U\n",
        "\n",
        "!git clone -q --branch v1.5.2 https://github.com/AUTOMATIC1111/$sdw /root/gpu-t4-s-3c53o32qn8ga2\n",
        "\n",
        "sd_dir = f\"/root/gpu-t4-s-3c53o32qn8ga2\"\n",
        "\n",
        "!git clone --depth 1 https://github.com/Van-wise/sd-localization-zh_Hans {sd_dir}/extensions/sd-localization-zh_Hans #中文\n",
        "!git clone --depth 1 https://github.com/Van-wise/sd-images-browser {sd_dir}/extensions/sd-images-browser #图片浏览\n",
        "!git clone --depth 1 https://github.com/Iyashinouta/sd-model-downloader {sd_dir}/extensions/sd-model-downloader\n",
        "!git clone --depth 1 https://github.com/Van-wise/sd-tunnels {sd_dir}/extensions/sd-tunnels\n",
        "\n",
        "%cd {sd_dir}\n",
        "!wget -O \"config.json\" \"https://huggingface.co/spaces/weo1101/111/resolve/main/config.json\"\n",
        "\n",
        "!git reset --hard\n",
        "!git -C {sd_dir}/repositories/$sai reset --hard\n",
        "\n",
        "model_dir = f\"{sd_dir}/models/{sd}\"\n",
        "!aria2c --console-log-level=error -c -x 16 -s 16 -k 1M https://huggingface.co/spaces/weo1101/111/resolve/main/chilloutmix_NiPrunedFp32Fix-inpainting.inpainting.safetensors -d {model_dir} -o chilloutmix_NiPrunedFp32Fix-inpainting.inpainting.safetensors\n",
        "\n",
        "clear_output()\n",
        "!sed -i -e '''/from modules import launch_utils/a\\import os''' {sd_dir}/launch.py\n",
        "!sed -i -e '''/        prepare_environment()/a\\        os.system\\(f\\\"\"\"sed -i -e ''\\\"s/dict()))/dict())).cuda()/g\\\"'' {sd_dir}/repositories/{sai}/ldm/util.py\"\"\")''' {sd_dir}/launch.py\n",
        "!sed -i -e 's/\\[\"sd_model_checkpoint\"\\]/\\[\"sd_model_checkpoint\",\"sd_vae\",\"CLIP_stop_at_last_layers\"\\]/g' {sd_dir}/modules/shared.py\n",
        "%cd {sd_dir}\n",
        "!python launch.py --listen --xformers --enable-insecure-extension-access --theme dark --ngrok=\"2RW6PheufAfZtkarOYfljRCNcUP_2ww9yEkn31qsCK9jKM5Du\" --ngrok-region='auto'"
      ]
    }
  ],
  "metadata": {
    "accelerator": "GPU",
    "colab": {
      "collapsed_sections": [
        "uE4Fyyqd08hn",
        "eCjCGUUE08hz"
      ],
      "gpuType": "T4",
      "provenance": []
    },
    "kernelspec": {
      "display_name": "Python 3",
      "name": "python3"
    },
    "language_info": {
      "name": "python"
    }
  },
  "nbformat": 4,
  "nbformat_minor": 0
}
