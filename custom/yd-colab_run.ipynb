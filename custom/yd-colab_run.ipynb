{
  "cells": [
    {
      "cell_type": "code",
      "execution_count": null,
      "metadata": {
        "id": "WGS739-C08hR"
      },
      "outputs": [],
      "source": [
        "%cd /content\n",
        "import urllib, requests\n",
        "from notebook import notebookapp\n",
        "name = requests.get(f\"{list(notebookapp.list_running_servers())[0]['url']}api/sessions\").json()[0][\"name\"].replace(\"_run\", \"\")\n",
        "url = '/'.join(urllib.parse.unquote(requests.get(f\"{list(notebookapp.list_running_servers())[0]['url']}api/sessions\").json()[0][\"path\"].split(\"=\", 1)[1]).split(\"/\")).replace(\"/blob/\", \"/\").replace(\"github.com\", \"raw.githubusercontent.com\").replace(\"_run\", \"\")\n",
        "!wget {url} -O {name}\n",
        "%run {name}"
      ]
    }
  ],
  "metadata": {
    "accelerator": "GPU",
    "colab": {
      "collapsed_sections": [
        "uE4Fyyqd08hn",
        "eCjCGUUE08hz"
      ],
      "gpuType": "T4",
      "provenance": []
    },
    "kernelspec": {
      "display_name": "Python 3",
      "name": "python3"
    },
    "language_info": {
      "name": "python"
    }
  },
  "nbformat": 4,
  "nbformat_minor": 0
}
