{
 "cells": [
  {
   "cell_type": "markdown",
   "metadata": {},
   "source": [
    "### 已知BUG及其解决方法"
   ]
  },
  {
   "cell_type": "markdown",
   "metadata": {},
   "source": [
    "sdxl模型无法直接使用,需要在模型管理处进行手动配置。\n",
    "\n",
    "错误原因： 没有正确识别sdxl模型\n",
    "\n",
    "#解决方法：\n",
    "模型管理器 - 选中sdxl模型\n",
    "基地模型设置为xl\n",
    "config文件选中xl_base.yaml\n",
    "\n",
    "\n",
    "\n",
    "<a href=\"https://ibb.co/kM88H6V\"><img src=\"https://i.ibb.co/8X55K4n/QQ-20231109180319.png\" alt=\"QQ-20231109180319\" border=\"0\"></a>"
   ]
  },
  {
   "cell_type": "code",
   "execution_count": null,
   "metadata": {},
   "outputs": [],
   "source": [
    "  File \"/usr/local/lib/python3.10/dist-packages/diffusers/schedulers/scheduling_dpmsolver_singlestep.py\", line 669, in step\n",
    "    step_index = step_index.item()\n",
    "RuntimeError: a Tensor with 2 elements cannot be converted to Scalar\n",
    "\n",
    "#错误原因： 使用 DPM++ 2S Karras 采样器时，需要设置 step_index 为 40以下，否则会报错。\n",
    "\n",
    "#解决方法： 将采样步数设置为 40以下即可。\n",
    "https://github.com/invoke-ai/InvokeAI/issues/4924"
   ]
  }
 ],
 "metadata": {
  "language_info": {
   "name": "python"
  }
 },
 "nbformat": 4,
 "nbformat_minor": 2
}
